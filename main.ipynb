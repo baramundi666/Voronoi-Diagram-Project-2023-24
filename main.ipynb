{
 "cells": [
  {
   "cell_type": "markdown",
   "metadata": {},
   "source": [
    "# Wieloboki Voronoi'a"
   ]
  },
  {
   "cell_type": "code",
   "execution_count": 9,
   "metadata": {
    "ExecuteTime": {
     "end_time": "2023-07-31T19:42:27.936978400Z",
     "start_time": "2023-07-31T19:42:25.087975100Z"
    }
   },
   "outputs": [],
   "source": [
    "import numpy as np\n",
    "import pandas as pd\n",
    "import matplotlib.pyplot as plt\n",
    "from bitalg.tests.test1 import Test\n",
    "from bitalg.visualizer.main import Visualizer"
   ]
  },
  {
   "cell_type": "code",
   "execution_count": 10,
   "metadata": {},
   "outputs": [],
   "source": [
    "def draw_points(points):\n",
    "    vis = Visualizer()\n",
    "    vis.add_point(points, s=2, color='green')\n",
    "    vis.show()"
   ]
  },
  {
   "cell_type": "code",
   "execution_count": 11,
   "metadata": {},
   "outputs": [],
   "source": [
    "def draw_line(points_left, points_mid, points_right):\n",
    "    vis = Visualizer()\n",
    "    vis.add_line(((-1.0, 0.0), (1.0,0.1)), color='red')\n",
    "    vis.add_point(points_left, s=30, color=['green'])\n",
    "    vis.add_point(points_mid, s=30, color=['purple'])\n",
    "    vis.add_point(points_right, s=30, color=['orange'])\n",
    "    vis.show()"
   ]
  },
  {
   "cell_type": "code",
   "execution_count": 12,
   "metadata": {},
   "outputs": [],
   "source": [
    "def generate_uniform_points(left, right, n = 10 ** 5):\n",
    "    tab =[]\n",
    "    for _ in range(n):\n",
    "        x = np.random.uniform(left, right)\n",
    "        y = np.random.uniform(left, right)\n",
    "        tab.append((x, y))\n",
    "    return tab"
   ]
  },
  {
   "cell_type": "markdown",
   "metadata": {},
   "source": [
    "**Funkcje pomocnicze**"
   ]
  },
  {
   "cell_type": "code",
   "execution_count": 13,
   "metadata": {},
   "outputs": [],
   "source": [
    "def orient(a, b, c):\n",
    "        return (b[0]-a[0])*(c[1]-b[1]) - (b[1]-a[1])*(c[0]-b[0])\n",
    "\n",
    "# ..."
   ]
  },
  {
   "cell_type": "markdown",
   "metadata": {},
   "source": [
    "**Główny algorytm**\n"
   ]
  },
  {
   "cell_type": "code",
   "execution_count": 14,
   "metadata": {},
   "outputs": [],
   "source": [
    "def Voronoi(points):\n",
    "    '''\n",
    "    points = [(x1, y1), (x2, y2), ...]\n",
    "    '''\n",
    "    # ...\n",
    "    pass\n",
    "\n"
   ]
  },
  {
   "cell_type": "markdown",
   "metadata": {},
   "source": [
    "**Testy algorytmu**"
   ]
  },
  {
   "cell_type": "code",
   "execution_count": 15,
   "metadata": {},
   "outputs": [],
   "source": [
    "# ..."
   ]
  }
 ],
 "metadata": {
  "kernelspec": {
   "display_name": "Python 3 (ipykernel)",
   "language": "python",
   "name": "python3"
  },
  "language_info": {
   "codemirror_mode": {
    "name": "ipython",
    "version": 3
   },
   "file_extension": ".py",
   "mimetype": "text/x-python",
   "name": "python",
   "nbconvert_exporter": "python",
   "pygments_lexer": "ipython3",
   "version": "3.12.0"
  }
 },
 "nbformat": 4,
 "nbformat_minor": 2
}
